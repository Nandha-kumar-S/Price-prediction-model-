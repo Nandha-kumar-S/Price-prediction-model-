{
 "cells": [
  {
   "cell_type": "code",
   "execution_count": 1,
   "id": "812b6cd8",
   "metadata": {},
   "outputs": [],
   "source": [
    "import pandas as pd\n",
    "import numpy as np\n",
    "import matplotlib.pyplot as plt"
   ]
  },
  {
   "cell_type": "code",
   "execution_count": 2,
   "id": "d5cf8a3a",
   "metadata": {},
   "outputs": [],
   "source": [
    "dataset=pd.read_csv('C:\\\\Users\\\\suriy\\\\OneDrive\\\\Desktop\\\\ML\\\\Project 1\\\\Flipkart_Mobiles.csv')"
   ]
  },
  {
   "cell_type": "code",
   "execution_count": 3,
   "id": "7e54e4e9",
   "metadata": {},
   "outputs": [
    {
     "data": {
      "text/html": [
       "<div>\n",
       "<style scoped>\n",
       "    .dataframe tbody tr th:only-of-type {\n",
       "        vertical-align: middle;\n",
       "    }\n",
       "\n",
       "    .dataframe tbody tr th {\n",
       "        vertical-align: top;\n",
       "    }\n",
       "\n",
       "    .dataframe thead th {\n",
       "        text-align: right;\n",
       "    }\n",
       "</style>\n",
       "<table border=\"1\" class=\"dataframe\">\n",
       "  <thead>\n",
       "    <tr style=\"text-align: right;\">\n",
       "      <th></th>\n",
       "      <th>Brand</th>\n",
       "      <th>Model</th>\n",
       "      <th>Memory</th>\n",
       "      <th>Storage</th>\n",
       "      <th>Rating</th>\n",
       "      <th>Selling Price</th>\n",
       "    </tr>\n",
       "  </thead>\n",
       "  <tbody>\n",
       "    <tr>\n",
       "      <th>0</th>\n",
       "      <td>OPPO</td>\n",
       "      <td>A53</td>\n",
       "      <td>4 GB</td>\n",
       "      <td>64 GB</td>\n",
       "      <td>4.5</td>\n",
       "      <td>11990</td>\n",
       "    </tr>\n",
       "    <tr>\n",
       "      <th>1</th>\n",
       "      <td>HTC</td>\n",
       "      <td>A53</td>\n",
       "      <td>4 GB</td>\n",
       "      <td>64 GB</td>\n",
       "      <td>NaN</td>\n",
       "      <td>11990</td>\n",
       "    </tr>\n",
       "    <tr>\n",
       "      <th>2</th>\n",
       "      <td>OPPO</td>\n",
       "      <td>A53</td>\n",
       "      <td>6 GB</td>\n",
       "      <td>128 GB</td>\n",
       "      <td>4.3</td>\n",
       "      <td>13990</td>\n",
       "    </tr>\n",
       "    <tr>\n",
       "      <th>3</th>\n",
       "      <td>OPPO</td>\n",
       "      <td>A53</td>\n",
       "      <td>6 GB</td>\n",
       "      <td>128 GB</td>\n",
       "      <td>4.3</td>\n",
       "      <td>13990</td>\n",
       "    </tr>\n",
       "    <tr>\n",
       "      <th>4</th>\n",
       "      <td>OPPO</td>\n",
       "      <td>A53</td>\n",
       "      <td>4 GB</td>\n",
       "      <td>64 GB</td>\n",
       "      <td>4.5</td>\n",
       "      <td>11990</td>\n",
       "    </tr>\n",
       "    <tr>\n",
       "      <th>5</th>\n",
       "      <td>OPPO</td>\n",
       "      <td>A53</td>\n",
       "      <td>6 GB</td>\n",
       "      <td>128 GB</td>\n",
       "      <td>4.3</td>\n",
       "      <td>13990</td>\n",
       "    </tr>\n",
       "    <tr>\n",
       "      <th>6</th>\n",
       "      <td>OPPO</td>\n",
       "      <td>A12</td>\n",
       "      <td>4 GB</td>\n",
       "      <td>64 GB</td>\n",
       "      <td>4.4</td>\n",
       "      <td>10490</td>\n",
       "    </tr>\n",
       "    <tr>\n",
       "      <th>7</th>\n",
       "      <td>OPPO</td>\n",
       "      <td>A12</td>\n",
       "      <td>3 GB</td>\n",
       "      <td>32 GB</td>\n",
       "      <td>4.4</td>\n",
       "      <td>9490</td>\n",
       "    </tr>\n",
       "    <tr>\n",
       "      <th>8</th>\n",
       "      <td>OPPO</td>\n",
       "      <td>A12</td>\n",
       "      <td>3 GB</td>\n",
       "      <td>32 GB</td>\n",
       "      <td>4.4</td>\n",
       "      <td>9490</td>\n",
       "    </tr>\n",
       "  </tbody>\n",
       "</table>\n",
       "</div>"
      ],
      "text/plain": [
       "  Brand Model Memory Storage  Rating  Selling Price\n",
       "0  OPPO   A53   4 GB   64 GB     4.5          11990\n",
       "1   HTC   A53   4 GB   64 GB     NaN          11990\n",
       "2  OPPO   A53   6 GB  128 GB     4.3          13990\n",
       "3  OPPO   A53   6 GB  128 GB     4.3          13990\n",
       "4  OPPO   A53   4 GB   64 GB     4.5          11990\n",
       "5  OPPO   A53   6 GB  128 GB     4.3          13990\n",
       "6  OPPO   A12   4 GB   64 GB     4.4          10490\n",
       "7  OPPO   A12   3 GB   32 GB     4.4           9490\n",
       "8  OPPO   A12   3 GB   32 GB     4.4           9490"
      ]
     },
     "execution_count": 3,
     "metadata": {},
     "output_type": "execute_result"
    }
   ],
   "source": [
    "dataset.head(9)"
   ]
  },
  {
   "cell_type": "code",
   "execution_count": 4,
   "id": "b8411bff",
   "metadata": {},
   "outputs": [],
   "source": [
    "x=dataset.iloc[ : , :-1].values\n",
    "y=dataset.iloc[ : , -1].values"
   ]
  },
  {
   "cell_type": "code",
   "execution_count": 5,
   "id": "eedb8a18",
   "metadata": {},
   "outputs": [
    {
     "name": "stdout",
     "output_type": "stream",
     "text": [
      "[['OPPO' 'A53' '4 GB' '64 GB' 4.5]\n",
      " ['HTC' 'A53' '4 GB' '64 GB' nan]\n",
      " ['OPPO' 'A53' '6 GB' '128 GB' 4.3]\n",
      " ...\n",
      " ['SAMSUNG' 'M52 5G' '8 GB' '128 GB' 4.3]\n",
      " ['SAMSUNG' 'M52 5G' '8 GB' '128 GB' 4.2]\n",
      " ['SAMSUNG' 'M52 5G' '8 GB' '128 GB' 4.2]]\n"
     ]
    }
   ],
   "source": [
    "print(x)"
   ]
  },
  {
   "cell_type": "code",
   "execution_count": 6,
   "id": "bc95a2c8",
   "metadata": {},
   "outputs": [
    {
     "name": "stdout",
     "output_type": "stream",
     "text": [
      "[[11990]\n",
      " [11990]\n",
      " [13990]\n",
      " ...\n",
      " [27239]\n",
      " [22989]\n",
      " [20350]]\n"
     ]
    }
   ],
   "source": [
    "y=y.reshape(len(y),1)\n",
    "print(y)"
   ]
  },
  {
   "cell_type": "code",
   "execution_count": 7,
   "id": "bfcfd84b",
   "metadata": {},
   "outputs": [],
   "source": [
    "from sklearn.impute import SimpleImputer\n",
    "imputer=SimpleImputer(missing_values=np.nan,strategy='mean')\n"
   ]
  },
  {
   "cell_type": "code",
   "execution_count": 8,
   "id": "e14218ca",
   "metadata": {
    "scrolled": true
   },
   "outputs": [],
   "source": [
    "imputer.fit(y)\n",
    "y=imputer.transform(y)"
   ]
  },
  {
   "cell_type": "code",
   "execution_count": 9,
   "id": "d060f499",
   "metadata": {},
   "outputs": [],
   "source": [
    "#from sklearn.compose import ColumnTransformer\n",
    "#from sklearn.preprocessing import OneHotEncoder\n",
    "#ct=ColumnTransformer(transformers=[('encoder',OneHotEncoder(),[0])], remainder='passthrough')\n",
    "#x=np.array(ct.fit_transform(x))\n",
    "#cannot be applied cuz more data \n",
    "#use ordinal encoding"
   ]
  },
  {
   "cell_type": "code",
   "execution_count": 10,
   "id": "257ccdc4",
   "metadata": {},
   "outputs": [],
   "source": [
    "from sklearn.preprocessing import OrdinalEncoder\n",
    "encoder=OrdinalEncoder()\n",
    "x[ : , 0:4]=encoder.fit_transform(x[ : , 0:4])"
   ]
  },
  {
   "cell_type": "code",
   "execution_count": 11,
   "id": "b07743ec",
   "metadata": {},
   "outputs": [
    {
     "name": "stdout",
     "output_type": "stream",
     "text": [
      "[[11.0 128.0 16.0 20.0 4.5]\n",
      " [4.0 128.0 16.0 20.0 nan]\n",
      " [11.0 128.0 21.0 3.0 4.3]\n",
      " ...\n",
      " [13.0 528.0 24.0 3.0 4.3]\n",
      " [13.0 528.0 24.0 3.0 4.2]\n",
      " [13.0 528.0 24.0 3.0 4.2]]\n"
     ]
    }
   ],
   "source": [
    "print(x)"
   ]
  },
  {
   "cell_type": "code",
   "execution_count": 12,
   "id": "8b1d12c8",
   "metadata": {},
   "outputs": [
    {
     "name": "stdout",
     "output_type": "stream",
     "text": [
      "[[11990.]\n",
      " [11990.]\n",
      " [13990.]\n",
      " ...\n",
      " [27239.]\n",
      " [22989.]\n",
      " [20350.]]\n"
     ]
    }
   ],
   "source": [
    "print(y)"
   ]
  },
  {
   "cell_type": "code",
   "execution_count": 13,
   "id": "399eab87",
   "metadata": {},
   "outputs": [],
   "source": [
    "imputer.fit(x[ : , 0:1])\n",
    "x[ : , 0:1]=imputer.transform(x[ : , 0:1])"
   ]
  },
  {
   "cell_type": "code",
   "execution_count": 14,
   "id": "deb6a9eb",
   "metadata": {},
   "outputs": [],
   "source": [
    "imputer.fit(x[ : , 1:2])\n",
    "x[ : , 1:2]=imputer.transform(x[ : , 1:2])"
   ]
  },
  {
   "cell_type": "code",
   "execution_count": 15,
   "id": "73dee3f9",
   "metadata": {},
   "outputs": [],
   "source": [
    "imputer.fit(x[ : , 2:3])\n",
    "x[ : , 2:3]=imputer.transform(x[ : , 2:3])"
   ]
  },
  {
   "cell_type": "code",
   "execution_count": 16,
   "id": "715b93c4",
   "metadata": {},
   "outputs": [],
   "source": [
    "imputer.fit(x[ : , 3:4])\n",
    "x[ : , 3:4]=imputer.transform(x[ : , 3:4])"
   ]
  },
  {
   "cell_type": "code",
   "execution_count": 17,
   "id": "ab468390",
   "metadata": {},
   "outputs": [],
   "source": [
    "imputer.fit(x[ : , 4:5])\n",
    "x[ : , 4:5]=imputer.transform(x[ : , 4:5])"
   ]
  },
  {
   "cell_type": "code",
   "execution_count": 18,
   "id": "609fd896",
   "metadata": {},
   "outputs": [
    {
     "name": "stdout",
     "output_type": "stream",
     "text": [
      "[[11.0 128.0 16.0 20.0 4.5]\n",
      " [4.0 128.0 16.0 20.0 4.243011114853486]\n",
      " [11.0 128.0 21.0 3.0 4.3]\n",
      " ...\n",
      " [13.0 528.0 24.0 3.0 4.3]\n",
      " [13.0 528.0 24.0 3.0 4.2]\n",
      " [13.0 528.0 24.0 3.0 4.2]]\n"
     ]
    }
   ],
   "source": [
    "print(x)"
   ]
  },
  {
   "cell_type": "code",
   "execution_count": 19,
   "id": "ba09935c",
   "metadata": {},
   "outputs": [],
   "source": [
    "from sklearn.model_selection import train_test_split\n",
    "x_train,x_test,y_train,y_test=train_test_split(x,y,test_size=0.2,random_state=1)\n"
   ]
  },
  {
   "cell_type": "code",
   "execution_count": 20,
   "id": "bd0a21d4",
   "metadata": {},
   "outputs": [
    {
     "name": "stderr",
     "output_type": "stream",
     "text": [
      "C:\\Users\\suriy\\AppData\\Local\\Temp\\ipykernel_13604\\1060335148.py:3: DataConversionWarning: A column-vector y was passed when a 1d array was expected. Please change the shape of y to (n_samples,), for example using ravel().\n",
      "  ranreg.fit(x_train,y_train)\n"
     ]
    },
    {
     "data": {
      "text/plain": [
       "RandomForestRegressor(n_estimators=10, random_state=0)"
      ]
     },
     "execution_count": 20,
     "metadata": {},
     "output_type": "execute_result"
    }
   ],
   "source": [
    "from sklearn.ensemble import RandomForestRegressor\n",
    "ranreg=RandomForestRegressor(n_estimators=10,random_state=0)\n",
    "ranreg.fit(x_train,y_train)"
   ]
  },
  {
   "cell_type": "code",
   "execution_count": 21,
   "id": "12d00410",
   "metadata": {},
   "outputs": [],
   "source": [
    "y_pred=ranreg.predict(x_test)\n",
    "np.set_printoptions(precision=2)\n"
   ]
  },
  {
   "cell_type": "code",
   "execution_count": 22,
   "id": "18189234",
   "metadata": {},
   "outputs": [
    {
     "data": {
      "text/plain": [
       "0.9517094880905053"
      ]
     },
     "execution_count": 22,
     "metadata": {},
     "output_type": "execute_result"
    }
   ],
   "source": [
    "from sklearn.metrics import r2_score\n",
    "r2_score(y_test,y_pred)\n"
   ]
  },
  {
   "cell_type": "code",
   "execution_count": 23,
   "id": "e5539a74",
   "metadata": {},
   "outputs": [],
   "source": [
    "#x_grid=np.arange(min(x),max(x),0.01)\n",
    "#x_grid=x_grid.reshape(len(x_grid),1)\n",
    "\n",
    "#plt.scatter(x,y,color='red')\n",
    "#plt.plot(x,ranreg.predict(x),color='blue')\n",
    "#plt.title(' Project 1')\n",
    "#plt.show()"
   ]
  },
  {
   "cell_type": "code",
   "execution_count": null,
   "id": "47431c77",
   "metadata": {},
   "outputs": [],
   "source": []
  },
  {
   "cell_type": "code",
   "execution_count": null,
   "id": "b1fa52e9",
   "metadata": {},
   "outputs": [],
   "source": []
  }
 ],
 "metadata": {
  "kernelspec": {
   "display_name": "Python 3 (ipykernel)",
   "language": "python",
   "name": "python3"
  },
  "language_info": {
   "codemirror_mode": {
    "name": "ipython",
    "version": 3
   },
   "file_extension": ".py",
   "mimetype": "text/x-python",
   "name": "python",
   "nbconvert_exporter": "python",
   "pygments_lexer": "ipython3",
   "version": "3.10.2"
  }
 },
 "nbformat": 4,
 "nbformat_minor": 5
}
